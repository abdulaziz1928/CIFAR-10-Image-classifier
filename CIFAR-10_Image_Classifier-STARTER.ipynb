{
 "cells": [
  {
   "cell_type": "markdown",
   "metadata": {},
   "source": [
    "# Introduction\n",
    "\n",
    "In this project, you will build a neural network of your own design to evaluate the CIFAR-10 dataset.\n",
    "\n",
    "To meet the requirements for this project, you will need to achieve an accuracy greater than 45%. \n",
    "If you want to beat Detectocorp's algorithm, you'll need to achieve an accuracy greater than 70%. \n",
    "(Beating Detectocorp's algorithm is not a requirement for passing this project, but you're encouraged to try!)\n",
    "\n",
    "Some of the benchmark results on CIFAR-10 include:\n",
    "\n",
    "78.9% Accuracy | [Deep Belief Networks; Krizhevsky, 2010](https://www.cs.toronto.edu/~kriz/conv-cifar10-aug2010.pdf)\n",
    "\n",
    "90.6% Accuracy | [Maxout Networks; Goodfellow et al., 2013](https://arxiv.org/pdf/1302.4389.pdf)\n",
    "\n",
    "96.0% Accuracy | [Wide Residual Networks; Zagoruyko et al., 2016](https://arxiv.org/pdf/1605.07146.pdf)\n",
    "\n",
    "99.0% Accuracy | [GPipe; Huang et al., 2018](https://arxiv.org/pdf/1811.06965.pdf)\n",
    "\n",
    "98.5% Accuracy | [Rethinking Recurrent Neural Networks and other Improvements for ImageClassification; Nguyen et al., 2020](https://arxiv.org/pdf/2007.15161.pdf)\n",
    "\n",
    "Research with this dataset is ongoing. Notably, many of these networks are quite large and quite expensive to train. \n",
    "\n",
    "## Imports"
   ]
  },
  {
   "cell_type": "code",
   "execution_count": 1,
   "metadata": {},
   "outputs": [],
   "source": [
    "## This cell contains the essential imports you will need – DO NOT CHANGE THE CONTENTS! ##\n",
    "import torch\n",
    "import torch.nn as nn\n",
    "import torch.nn.functional as F\n",
    "import torch.optim as optim\n",
    "import torchvision\n",
    "import torchvision.transforms as transforms\n",
    "import matplotlib.pyplot as plt\n",
    "import numpy as np"
   ]
  },
  {
   "cell_type": "markdown",
   "metadata": {},
   "source": [
    "## Load the Dataset\n",
    "\n",
    "Specify your transforms as a list first.\n",
    "The transforms module is already loaded as `transforms`.\n",
    "\n",
    "CIFAR-10 is fortunately included in the torchvision module.\n",
    "Then, you can create your dataset using the `CIFAR10` object from `torchvision.datasets` ([the documentation is available here](https://pytorch.org/docs/stable/torchvision/datasets.html#cifar)).\n",
    "Make sure to specify `download=True`! \n",
    "\n",
    "Once your dataset is created, you'll also need to define a `DataLoader` from the `torch.utils.data` module for both the train and the test set."
   ]
  },
  {
   "cell_type": "code",
   "execution_count": 2,
   "metadata": {},
   "outputs": [
    {
     "name": "stdout",
     "output_type": "stream",
     "text": [
      "Files already downloaded and verified\n",
      "Files already downloaded and verified\n"
     ]
    }
   ],
   "source": [
    "# Define transforms\n",
    "## YOUR CODE HERE ##\n",
    "\n",
    "train_transform = transforms.Compose([transforms.RandomResizedCrop(32),\n",
    "                                      transforms.RandomHorizontalFlip(),\n",
    "                                      transforms.ToTensor(),\n",
    "                                      transforms.Normalize([0.5, 0.5, 0.5],\n",
    "                                                           [0.5, 0.5, 0.5])])\n",
    "test_transform= transforms.Compose([transforms.ToTensor(),\n",
    "                                    transforms.Normalize([0.5, 0.5, 0.5],\n",
    "                                                         [0.5, 0.5, 0.5])])\n",
    "## YOUR CODE HERE ##\n",
    "\n",
    "trainset = torchvision.datasets.CIFAR10('~/.pytorch/CIFAR10_data', download=True, train=True, transform=train_transform)\n",
    "trainloader = torch.utils.data.DataLoader(trainset, batch_size=64, shuffle=True)\n",
    "\n",
    "# Create test set and define test dataloader\n",
    "## YOUR CODE HERE ##\n",
    "\n",
    "testset = torchvision.datasets.CIFAR10('~/.pytorch/CIFAR10_data', download=True, train=False, transform=test_transform)\n",
    "testloader = torch.utils.data.DataLoader(trainset, batch_size=64, shuffle=True)\n",
    "\n",
    "# The 10 classes in the dataset\n",
    "classes = ('plane', 'car', 'bird', 'cat', 'deer', 'dog', 'frog', 'horse', 'ship', 'truck')"
   ]
  },
  {
   "cell_type": "markdown",
   "metadata": {},
   "source": [
    "## Explore the Dataset\n",
    "Using matplotlib, numpy, and torch, explore the dimensions of your data.\n",
    "\n",
    "You can view images using the `show5` function defined below – it takes a data loader as an argument.\n",
    "Remember that normalized images will look really weird to you! You may want to try changing your transforms to view images.\n",
    "Typically using no transforms other than `toTensor()` works well for viewing – but not as well for training your network.\n",
    "If `show5` doesn't work, go back and check your code for creating your data loaders and your training/test sets."
   ]
  },
  {
   "cell_type": "code",
   "execution_count": 45,
   "metadata": {},
   "outputs": [],
   "source": [
    "def show5(img_loader):\n",
    "    dataiter = iter(img_loader)\n",
    "    \n",
    "    batch = next(dataiter)\n",
    "    labels = batch[1][0:5]\n",
    "    images = batch[0][0:5]\n",
    "    for i in range(5):\n",
    "        print(classes[labels[i]])\n",
    "    \n",
    "        image = images[i].numpy()\n",
    "        plt.imshow(np.rot90(image.T, k=3))\n",
    "        plt.show()"
   ]
  },
  {
   "cell_type": "code",
   "execution_count": 46,
   "metadata": {},
   "outputs": [
    {
     "name": "stderr",
     "output_type": "stream",
     "text": [
      "Clipping input data to the valid range for imshow with RGB data ([0..1] for floats or [0..255] for integers).\n"
     ]
    },
    {
     "name": "stdout",
     "output_type": "stream",
     "text": [
      "plane\n"
     ]
    },
    {
     "data": {
      "image/png": "[encoded data removed]",
      "text/plain": [
       "<Figure size 432x288 with 1 Axes>"
      ]
     },
     "metadata": {
      "needs_background": "light"
     },
     "output_type": "display_data"
    },
    {
     "name": "stderr",
     "output_type": "stream",
     "text": [
      "Clipping input data to the valid range for imshow with RGB data ([0..1] for floats or [0..255] for integers).\n"
     ]
    },
    {
     "name": "stdout",
     "output_type": "stream",
     "text": [
      "plane\n"
     ]
    },
    {
     "data": {
      "image/png": "[encoded data removed]",
      "text/plain": [
       "<Figure size 432x288 with 1 Axes>"
      ]
     },
     "metadata": {
      "needs_background": "light"
     },
     "output_type": "display_data"
    },
    {
     "name": "stderr",
     "output_type": "stream",
     "text": [
      "Clipping input data to the valid range for imshow with RGB data ([0..1] for floats or [0..255] for integers).\n"
     ]
    },
    {
     "name": "stdout",
     "output_type": "stream",
     "text": [
      "dog\n"
     ]
    },
    {
     "data": {
      "image/png": "[encoded data removed]",
      "text/plain": [
       "<Figure size 432x288 with 1 Axes>"
      ]
     },
     "metadata": {
      "needs_background": "light"
     },
     "output_type": "display_data"
    },
    {
     "name": "stderr",
     "output_type": "stream",
     "text": [
      "Clipping input data to the valid range for imshow with RGB data ([0..1] for floats or [0..255] for integers).\n"
     ]
    },
    {
     "name": "stdout",
     "output_type": "stream",
     "text": [
      "frog\n"
     ]
    },
    {
     "data": {
      "image/png": "[encoded data removed]",
      "text/plain": [
       "<Figure size 432x288 with 1 Axes>"
      ]
     },
     "metadata": {
      "needs_background": "light"
     },
     "output_type": "display_data"
    },
    {
     "name": "stderr",
     "output_type": "stream",
     "text": [
      "Clipping input data to the valid range for imshow with RGB data ([0..1] for floats or [0..255] for integers).\n"
     ]
    },
    {
     "name": "stdout",
     "output_type": "stream",
     "text": [
      "horse\n"
     ]
    },
    {
     "data": {
      "image/png": "[encoded data removed]",
      "text/plain": [
       "<Figure size 432x288 with 1 Axes>"
      ]
     },
     "metadata": {
      "needs_background": "light"
     },
     "output_type": "display_data"
    },
    {
     "name": "stdout",
     "output_type": "stream",
     "text": [
      "torch.Size([64, 3, 32, 32])\n",
      "torch.Size([64])\n"
     ]
    }
   ],
   "source": [
    "# Explore data\n",
    "## YOUR CODE HERE ##\n",
    "show5(testloader)\n",
    "dataiter = iter(testloader)\n",
    "images, labels = dataiter.next()\n",
    "# l=images.shape[0]\n",
    "print(images.shape)\n",
    "print(labels.shape)"
   ]
  },
  {
   "cell_type": "markdown",
   "metadata": {},
   "source": [
    "## Build your Neural Network\n",
    "Using the layers in `torch.nn` (which has been imported as `nn`) and the `torch.nn.functional` module (imported as `F`), construct a neural network based on the parameters of the dataset. \n",
    "Feel free to construct a model of any architecture – feedforward, convolutional, or even something more advanced!"
   ]
  },
  {
   "cell_type": "code",
   "execution_count": 19,
   "metadata": {},
   "outputs": [],
   "source": [
    "## YOUR CODE HERE ##\n",
    "class MyNetwork(nn.Module):\n",
    "    def __init__(self):\n",
    "        super().__init__()\n",
    "        \n",
    "        #Convolutional Layer \n",
    "        self.conv1=nn.Conv2d(3,32,3,padding=1)\n",
    "        self.conv2=nn.Conv2d(32,64,3,padding=1)\n",
    "        self.conv3=nn.Conv2d(64,128,3,padding=1)\n",
    "        self.pool=nn.MaxPool2d(2,2)\n",
    "        \n",
    "        #Fully Connected Layer\n",
    "        self.fc1=nn.Linear(128*4*4,1024)\n",
    "        self.fc2=nn.Linear(1024,512)\n",
    "        self.fc3=nn.Linear(512,256)\n",
    "        self.fc4=nn.Linear(256,10)\n",
    "        self.dropout=nn.Dropout(p=0.2)\n",
    "        \n",
    "    def forward(self,x):\n",
    "        \n",
    "        x=self.pool(F.relu(self.conv1(x)))\n",
    "        x=self.pool(F.relu(self.conv2(x)))\n",
    "        x=self.pool(F.relu(self.conv3(x)))\n",
    "        x=x.view(x.shape[0], -1)\n",
    "        \n",
    "        x=self.dropout(F.relu(self.fc1(x)))\n",
    "        x=self.dropout(F.relu(self.fc2(x)))\n",
    "        x=self.dropout(F.relu(self.fc3(x)))               \n",
    "        x=F.log_softmax(self.fc4(x), dim=1)\n",
    "        return x"
   ]
  },
  {
   "cell_type": "markdown",
   "metadata": {},
   "source": [
    "Specify a loss function and an optimizer, and instantiate the model.\n",
    "\n",
    "If you use a less common loss function, please note why you chose that loss function in a comment."
   ]
  },
  {
   "cell_type": "code",
   "execution_count": 20,
   "metadata": {},
   "outputs": [],
   "source": [
    "## YOUR CODE HERE ##\n",
    "\n",
    "model=MyNetwork()\n",
    "criterion = nn.NLLLoss()\n",
    "optimizer = optim.Adam(model.parameters(), lr=0.001)\n",
    "accuracies,training_losses,test_losses=[],[],[]\n"
   ]
  },
  {
   "cell_type": "markdown",
   "metadata": {},
   "source": [
    "## Running your Neural Network\n",
    "Use whatever method you like to train your neural network, and ensure you record the average loss at each epoch. \n",
    "Don't forget to use `torch.device()` and the `.to()` method for both your model and your data if you are using GPU!\n",
    "\n",
    "If you want to print your loss during each epoch, you can use the `enumerate` function and print the loss after a set number of batches. 250 batches works well for most people!"
   ]
  },
  {
   "cell_type": "code",
   "execution_count": 21,
   "metadata": {
    "scrolled": false
   },
   "outputs": [
    {
     "name": "stdout",
     "output_type": "stream",
     "text": [
      "Epoch 1/50,  Training loss: 2.014,  Validation loss: 1.808,  Accuracy: 0.307\n",
      "Epoch 1/50,  Training loss: 1.790,  Validation loss: 1.697,  Accuracy: 0.371\n",
      "Epoch 1/50,  Training loss: 1.682,  Validation loss: 1.612,  Accuracy: 0.402\n",
      "Epoch 2/50,  Training loss: 1.607,  Validation loss: 1.567,  Accuracy: 0.430\n",
      "Epoch 2/50,  Training loss: 1.565,  Validation loss: 1.471,  Accuracy: 0.465\n",
      "Epoch 2/50,  Training loss: 1.518,  Validation loss: 1.450,  Accuracy: 0.471\n",
      "Epoch 3/50,  Training loss: 1.463,  Validation loss: 1.418,  Accuracy: 0.489\n",
      "Epoch 3/50,  Training loss: 1.423,  Validation loss: 1.371,  Accuracy: 0.509\n",
      "Epoch 3/50,  Training loss: 1.396,  Validation loss: 1.355,  Accuracy: 0.515\n",
      "Epoch 4/50,  Training loss: 1.373,  Validation loss: 1.313,  Accuracy: 0.531\n",
      "Epoch 4/50,  Training loss: 1.357,  Validation loss: 1.274,  Accuracy: 0.546\n",
      "Epoch 4/50,  Training loss: 1.317,  Validation loss: 1.300,  Accuracy: 0.542\n",
      "Epoch 5/50,  Training loss: 1.278,  Validation loss: 1.240,  Accuracy: 0.555\n",
      "Epoch 5/50,  Training loss: 1.288,  Validation loss: 1.217,  Accuracy: 0.571\n",
      "Epoch 5/50,  Training loss: 1.263,  Validation loss: 1.215,  Accuracy: 0.570\n",
      "Epoch 6/50,  Training loss: 1.255,  Validation loss: 1.229,  Accuracy: 0.563\n",
      "Epoch 6/50,  Training loss: 1.227,  Validation loss: 1.186,  Accuracy: 0.580\n",
      "Epoch 6/50,  Training loss: 1.223,  Validation loss: 1.162,  Accuracy: 0.585\n",
      "Epoch 7/50,  Training loss: 1.211,  Validation loss: 1.159,  Accuracy: 0.590\n",
      "Epoch 7/50,  Training loss: 1.189,  Validation loss: 1.150,  Accuracy: 0.594\n",
      "Epoch 7/50,  Training loss: 1.204,  Validation loss: 1.136,  Accuracy: 0.601\n",
      "Epoch 8/50,  Training loss: 1.187,  Validation loss: 1.132,  Accuracy: 0.602\n",
      "Epoch 8/50,  Training loss: 1.171,  Validation loss: 1.161,  Accuracy: 0.587\n",
      "Epoch 8/50,  Training loss: 1.146,  Validation loss: 1.123,  Accuracy: 0.601\n",
      "Epoch 8/50,  Training loss: 1.163,  Validation loss: 1.100,  Accuracy: 0.614\n",
      "Epoch 9/50,  Training loss: 1.159,  Validation loss: 1.103,  Accuracy: 0.611\n",
      "Epoch 9/50,  Training loss: 1.156,  Validation loss: 1.082,  Accuracy: 0.620\n",
      "Epoch 9/50,  Training loss: 1.134,  Validation loss: 1.082,  Accuracy: 0.619\n",
      "Epoch 10/50,  Training loss: 1.136,  Validation loss: 1.080,  Accuracy: 0.621\n",
      "Epoch 10/50,  Training loss: 1.118,  Validation loss: 1.082,  Accuracy: 0.616\n",
      "Epoch 10/50,  Training loss: 1.102,  Validation loss: 1.072,  Accuracy: 0.623\n",
      "Epoch 11/50,  Training loss: 1.112,  Validation loss: 1.054,  Accuracy: 0.633\n",
      "Epoch 11/50,  Training loss: 1.100,  Validation loss: 1.053,  Accuracy: 0.631\n",
      "Epoch 11/50,  Training loss: 1.123,  Validation loss: 1.039,  Accuracy: 0.634\n",
      "Epoch 12/50,  Training loss: 1.095,  Validation loss: 1.050,  Accuracy: 0.630\n",
      "Epoch 12/50,  Training loss: 1.106,  Validation loss: 1.053,  Accuracy: 0.629\n",
      "Epoch 12/50,  Training loss: 1.092,  Validation loss: 1.063,  Accuracy: 0.628\n",
      "Epoch 13/50,  Training loss: 1.060,  Validation loss: 1.018,  Accuracy: 0.642\n",
      "Epoch 13/50,  Training loss: 1.087,  Validation loss: 1.019,  Accuracy: 0.642\n",
      "Epoch 13/50,  Training loss: 1.086,  Validation loss: 1.020,  Accuracy: 0.640\n",
      "Epoch 14/50,  Training loss: 1.074,  Validation loss: 1.008,  Accuracy: 0.644\n",
      "Epoch 14/50,  Training loss: 1.067,  Validation loss: 1.060,  Accuracy: 0.627\n",
      "Epoch 14/50,  Training loss: 1.070,  Validation loss: 1.000,  Accuracy: 0.644\n",
      "Epoch 15/50,  Training loss: 1.066,  Validation loss: 1.017,  Accuracy: 0.646\n",
      "Epoch 15/50,  Training loss: 1.066,  Validation loss: 1.042,  Accuracy: 0.632\n",
      "Epoch 15/50,  Training loss: 1.058,  Validation loss: 0.997,  Accuracy: 0.648\n",
      "Epoch 16/50,  Training loss: 1.063,  Validation loss: 1.005,  Accuracy: 0.648\n",
      "Epoch 16/50,  Training loss: 1.042,  Validation loss: 1.012,  Accuracy: 0.644\n",
      "Epoch 16/50,  Training loss: 1.037,  Validation loss: 0.983,  Accuracy: 0.655\n",
      "Epoch 16/50,  Training loss: 1.053,  Validation loss: 0.996,  Accuracy: 0.650\n",
      "Epoch 17/50,  Training loss: 1.052,  Validation loss: 0.979,  Accuracy: 0.658\n",
      "Epoch 17/50,  Training loss: 1.016,  Validation loss: 0.990,  Accuracy: 0.654\n",
      "Epoch 17/50,  Training loss: 1.022,  Validation loss: 0.982,  Accuracy: 0.656\n",
      "Epoch 18/50,  Training loss: 1.030,  Validation loss: 0.982,  Accuracy: 0.659\n",
      "Epoch 18/50,  Training loss: 1.040,  Validation loss: 0.961,  Accuracy: 0.665\n",
      "Epoch 18/50,  Training loss: 1.021,  Validation loss: 0.975,  Accuracy: 0.661\n",
      "Epoch 19/50,  Training loss: 1.037,  Validation loss: 0.958,  Accuracy: 0.666\n",
      "Epoch 19/50,  Training loss: 1.020,  Validation loss: 0.955,  Accuracy: 0.662\n",
      "Epoch 19/50,  Training loss: 1.027,  Validation loss: 0.974,  Accuracy: 0.660\n",
      "Epoch 20/50,  Training loss: 1.017,  Validation loss: 0.956,  Accuracy: 0.666\n",
      "Epoch 20/50,  Training loss: 1.023,  Validation loss: 0.992,  Accuracy: 0.655\n",
      "Epoch 20/50,  Training loss: 1.024,  Validation loss: 0.963,  Accuracy: 0.662\n",
      "Epoch 21/50,  Training loss: 1.006,  Validation loss: 0.931,  Accuracy: 0.675\n",
      "Epoch 21/50,  Training loss: 1.003,  Validation loss: 0.933,  Accuracy: 0.673\n",
      "Epoch 21/50,  Training loss: 1.023,  Validation loss: 0.943,  Accuracy: 0.671\n",
      "Epoch 22/50,  Training loss: 1.012,  Validation loss: 0.933,  Accuracy: 0.675\n",
      "Epoch 22/50,  Training loss: 0.992,  Validation loss: 0.935,  Accuracy: 0.676\n",
      "Epoch 22/50,  Training loss: 1.006,  Validation loss: 0.944,  Accuracy: 0.672\n",
      "Epoch 23/50,  Training loss: 0.997,  Validation loss: 0.943,  Accuracy: 0.672\n",
      "Epoch 23/50,  Training loss: 0.994,  Validation loss: 0.955,  Accuracy: 0.665\n",
      "Epoch 23/50,  Training loss: 0.998,  Validation loss: 0.925,  Accuracy: 0.676\n",
      "Epoch 24/50,  Training loss: 1.002,  Validation loss: 0.935,  Accuracy: 0.673\n",
      "Epoch 24/50,  Training loss: 0.986,  Validation loss: 0.942,  Accuracy: 0.672\n",
      "Epoch 24/50,  Training loss: 0.980,  Validation loss: 0.918,  Accuracy: 0.677\n",
      "Epoch 24/50,  Training loss: 1.000,  Validation loss: 0.923,  Accuracy: 0.678\n",
      "Epoch 25/50,  Training loss: 0.988,  Validation loss: 0.955,  Accuracy: 0.665\n",
      "Epoch 25/50,  Training loss: 0.981,  Validation loss: 0.921,  Accuracy: 0.678\n",
      "Epoch 25/50,  Training loss: 0.979,  Validation loss: 0.952,  Accuracy: 0.667\n",
      "Epoch 26/50,  Training loss: 0.984,  Validation loss: 0.962,  Accuracy: 0.666\n",
      "Epoch 26/50,  Training loss: 0.983,  Validation loss: 0.907,  Accuracy: 0.684\n",
      "Epoch 26/50,  Training loss: 0.971,  Validation loss: 0.914,  Accuracy: 0.680\n",
      "Epoch 27/50,  Training loss: 0.957,  Validation loss: 0.909,  Accuracy: 0.679\n",
      "Epoch 27/50,  Training loss: 0.990,  Validation loss: 0.895,  Accuracy: 0.686\n",
      "Epoch 27/50,  Training loss: 0.989,  Validation loss: 0.916,  Accuracy: 0.682\n",
      "Epoch 28/50,  Training loss: 0.973,  Validation loss: 0.912,  Accuracy: 0.682\n",
      "Epoch 28/50,  Training loss: 0.956,  Validation loss: 0.888,  Accuracy: 0.691\n",
      "Epoch 28/50,  Training loss: 0.972,  Validation loss: 0.904,  Accuracy: 0.684\n",
      "Epoch 29/50,  Training loss: 0.974,  Validation loss: 0.915,  Accuracy: 0.681\n",
      "Epoch 29/50,  Training loss: 0.966,  Validation loss: 0.936,  Accuracy: 0.673\n",
      "Epoch 29/50,  Training loss: 0.952,  Validation loss: 0.938,  Accuracy: 0.672\n",
      "Epoch 30/50,  Training loss: 0.967,  Validation loss: 0.909,  Accuracy: 0.683\n",
      "Epoch 30/50,  Training loss: 0.949,  Validation loss: 0.891,  Accuracy: 0.688\n",
      "Epoch 30/50,  Training loss: 0.964,  Validation loss: 0.910,  Accuracy: 0.682\n",
      "Epoch 31/50,  Training loss: 0.968,  Validation loss: 0.907,  Accuracy: 0.684\n",
      "Epoch 31/50,  Training loss: 0.945,  Validation loss: 0.883,  Accuracy: 0.693\n",
      "Epoch 31/50,  Training loss: 0.946,  Validation loss: 0.895,  Accuracy: 0.689\n",
      "Epoch 32/50,  Training loss: 0.957,  Validation loss: 0.907,  Accuracy: 0.684\n",
      "Epoch 32/50,  Training loss: 0.947,  Validation loss: 0.907,  Accuracy: 0.683\n",
      "Epoch 32/50,  Training loss: 0.957,  Validation loss: 0.893,  Accuracy: 0.690\n",
      "Epoch 32/50,  Training loss: 0.949,  Validation loss: 0.886,  Accuracy: 0.691\n",
      "Epoch 33/50,  Training loss: 0.947,  Validation loss: 0.900,  Accuracy: 0.686\n",
      "Epoch 33/50,  Training loss: 0.945,  Validation loss: 0.902,  Accuracy: 0.685\n",
      "Epoch 33/50,  Training loss: 0.974,  Validation loss: 0.894,  Accuracy: 0.688\n",
      "Epoch 34/50,  Training loss: 0.940,  Validation loss: 0.883,  Accuracy: 0.693\n",
      "Epoch 34/50,  Training loss: 0.950,  Validation loss: 0.879,  Accuracy: 0.695\n",
      "Epoch 34/50,  Training loss: 0.960,  Validation loss: 0.908,  Accuracy: 0.687\n"
     ]
    },
    {
     "name": "stdout",
     "output_type": "stream",
     "text": [
      "Epoch 35/50,  Training loss: 0.947,  Validation loss: 0.887,  Accuracy: 0.692\n",
      "Epoch 35/50,  Training loss: 0.956,  Validation loss: 0.911,  Accuracy: 0.684\n",
      "Epoch 35/50,  Training loss: 0.945,  Validation loss: 0.879,  Accuracy: 0.694\n",
      "Epoch 36/50,  Training loss: 0.941,  Validation loss: 0.875,  Accuracy: 0.696\n",
      "Epoch 36/50,  Training loss: 0.936,  Validation loss: 0.879,  Accuracy: 0.694\n",
      "Epoch 36/50,  Training loss: 0.931,  Validation loss: 0.862,  Accuracy: 0.697\n",
      "Epoch 37/50,  Training loss: 0.948,  Validation loss: 0.905,  Accuracy: 0.685\n",
      "Epoch 37/50,  Training loss: 0.936,  Validation loss: 0.867,  Accuracy: 0.700\n",
      "Epoch 37/50,  Training loss: 0.934,  Validation loss: 0.892,  Accuracy: 0.688\n",
      "Epoch 38/50,  Training loss: 0.941,  Validation loss: 0.869,  Accuracy: 0.698\n",
      "Epoch 38/50,  Training loss: 0.931,  Validation loss: 0.881,  Accuracy: 0.693\n",
      "Epoch 38/50,  Training loss: 0.935,  Validation loss: 0.894,  Accuracy: 0.687\n",
      "Epoch 39/50,  Training loss: 0.928,  Validation loss: 0.856,  Accuracy: 0.703\n",
      "Epoch 39/50,  Training loss: 0.948,  Validation loss: 0.861,  Accuracy: 0.699\n",
      "Epoch 39/50,  Training loss: 0.940,  Validation loss: 0.870,  Accuracy: 0.699\n",
      "Epoch 40/50,  Training loss: 0.934,  Validation loss: 0.889,  Accuracy: 0.693\n",
      "Epoch 40/50,  Training loss: 0.931,  Validation loss: 0.877,  Accuracy: 0.693\n",
      "Epoch 40/50,  Training loss: 0.953,  Validation loss: 0.865,  Accuracy: 0.701\n",
      "Epoch 40/50,  Training loss: 0.943,  Validation loss: 0.865,  Accuracy: 0.700\n",
      "Epoch 41/50,  Training loss: 0.934,  Validation loss: 0.883,  Accuracy: 0.692\n",
      "Epoch 41/50,  Training loss: 0.921,  Validation loss: 0.863,  Accuracy: 0.699\n",
      "Epoch 41/50,  Training loss: 0.929,  Validation loss: 0.874,  Accuracy: 0.699\n",
      "Epoch 42/50,  Training loss: 0.911,  Validation loss: 0.852,  Accuracy: 0.704\n",
      "Epoch 42/50,  Training loss: 0.899,  Validation loss: 0.853,  Accuracy: 0.704\n",
      "Epoch 42/50,  Training loss: 0.926,  Validation loss: 0.884,  Accuracy: 0.691\n",
      "Epoch 43/50,  Training loss: 0.915,  Validation loss: 0.862,  Accuracy: 0.698\n",
      "Epoch 43/50,  Training loss: 0.921,  Validation loss: 0.844,  Accuracy: 0.710\n",
      "Epoch 43/50,  Training loss: 0.916,  Validation loss: 0.859,  Accuracy: 0.701\n",
      "Epoch 44/50,  Training loss: 0.924,  Validation loss: 0.852,  Accuracy: 0.703\n",
      "Epoch 44/50,  Training loss: 0.920,  Validation loss: 0.852,  Accuracy: 0.705\n",
      "Epoch 44/50,  Training loss: 0.916,  Validation loss: 0.847,  Accuracy: 0.704\n",
      "Epoch 45/50,  Training loss: 0.921,  Validation loss: 0.864,  Accuracy: 0.699\n",
      "Epoch 45/50,  Training loss: 0.915,  Validation loss: 0.869,  Accuracy: 0.699\n",
      "Epoch 45/50,  Training loss: 0.916,  Validation loss: 0.870,  Accuracy: 0.699\n",
      "Epoch 46/50,  Training loss: 0.904,  Validation loss: 0.853,  Accuracy: 0.703\n",
      "Epoch 46/50,  Training loss: 0.903,  Validation loss: 0.847,  Accuracy: 0.703\n",
      "Epoch 46/50,  Training loss: 0.916,  Validation loss: 0.863,  Accuracy: 0.702\n",
      "Epoch 47/50,  Training loss: 0.921,  Validation loss: 0.860,  Accuracy: 0.702\n",
      "Epoch 47/50,  Training loss: 0.906,  Validation loss: 0.835,  Accuracy: 0.710\n",
      "Epoch 47/50,  Training loss: 0.925,  Validation loss: 0.880,  Accuracy: 0.694\n",
      "Epoch 47/50,  Training loss: 0.908,  Validation loss: 0.846,  Accuracy: 0.706\n",
      "Epoch 48/50,  Training loss: 0.905,  Validation loss: 0.861,  Accuracy: 0.699\n",
      "Epoch 48/50,  Training loss: 0.904,  Validation loss: 0.848,  Accuracy: 0.706\n",
      "Epoch 48/50,  Training loss: 0.931,  Validation loss: 0.858,  Accuracy: 0.706\n",
      "Epoch 49/50,  Training loss: 0.910,  Validation loss: 0.825,  Accuracy: 0.715\n",
      "Epoch 49/50,  Training loss: 0.896,  Validation loss: 0.853,  Accuracy: 0.707\n",
      "Epoch 49/50,  Training loss: 0.923,  Validation loss: 0.851,  Accuracy: 0.705\n",
      "Epoch 50/50,  Training loss: 0.892,  Validation loss: 0.831,  Accuracy: 0.711\n",
      "Epoch 50/50,  Training loss: 0.901,  Validation loss: 0.842,  Accuracy: 0.706\n",
      "Epoch 50/50,  Training loss: 0.915,  Validation loss: 0.818,  Accuracy: 0.716\n"
     ]
    }
   ],
   "source": [
    "## YOUR CODE HERE ##\n",
    "\n",
    "device=torch.device(\"cuda\")\n",
    "epochs= 50\n",
    "steps=0\n",
    "running_loss=0\n",
    "test_loss=0\n",
    "accuracy=0\n",
    "model.to(device)\n",
    "\n",
    "validate_every = 250\n",
    "for e in range(epochs):\n",
    "    for images, labels in trainloader:\n",
    "        steps += 1\n",
    "        images, labels = images.to(device), labels.to(device)\n",
    "        \n",
    "        optimizer.zero_grad()\n",
    "        logps = model.forward(images)\n",
    "        loss = criterion(logps, labels)\n",
    "        loss.backward()\n",
    "        optimizer.step()\n",
    "        running_loss += loss.item()\n",
    "        \n",
    "        if steps % validate_every == 0:\n",
    "            test_loss = 0\n",
    "            accuracy = 0\n",
    "            model.eval()\n",
    "            with torch.no_grad():\n",
    "                for images, labels in testloader:\n",
    "                    images, labels = images.to(device), labels.to(device)\n",
    "                    logps = model.forward(images)\n",
    "                    t_loss = criterion(logps, labels)\n",
    "                    \n",
    "                    test_loss += t_loss.item()\n",
    "                    \n",
    "                    ps = torch.exp(logps)\n",
    "                    top_p, top_class = ps.topk(1, dim=1)\n",
    "                    equals = top_class == labels.view(*top_class.shape)\n",
    "                    accuracy += torch.mean(equals.type(torch.FloatTensor)).item()\n",
    "                    \n",
    "            print(f\"Epoch {e+1}/{epochs},  \"\n",
    "                  f\"Training loss: {running_loss/validate_every:.3f},  \"\n",
    "                  f\"Validation loss: {test_loss/len(testloader):.3f},  \"\n",
    "                  f\"Accuracy: {accuracy/len(testloader):.3f}\")\n",
    "            accuracies.append(accuracy/len(testloader))\n",
    "            training_losses.append(running_loss/validate_every)\n",
    "            test_losses.append(test_loss/len(testloader))\n",
    "            running_loss = 0\n",
    "            model.train()\n"
   ]
  },
  {
   "cell_type": "markdown",
   "metadata": {},
   "source": [
    "Plot the training loss (and validation loss/accuracy, if recorded)."
   ]
  },
  {
   "cell_type": "code",
   "execution_count": 32,
   "metadata": {
    "scrolled": false
   },
   "outputs": [
    {
     "data": {
      "image/png": "[encoded data removed]",
      "text/plain": [
       "<Figure size 432x288 with 1 Axes>"
      ]
     },
     "metadata": {
      "needs_background": "light"
     },
     "output_type": "display_data"
    }
   ],
   "source": [
    "## YOUR CODE HERE ##\n",
    "%matplotlib inline\n",
    "%config inlineBackend.figure_format='retina'\n",
    "\n",
    "import matplotlib.pyplot as plt\n",
    "plt.plot(training_losses,label='Train loss')\n",
    "plt.plot(test_losses,label='Validation loss')\n",
    "plt.plot(accuracies,label='Accuracy')\n",
    "plt.legend()\n",
    "plt.show()"
   ]
  },
  {
   "cell_type": "markdown",
   "metadata": {},
   "source": [
    "## Testing your model\n",
    "Using the previously created `DataLoader` for the test set, compute the percentage of correct predictions using the highest probability prediction. \n",
    "\n",
    "If your accuracy is over 70%, great work! \n",
    "This is a hard task to exceed 70% on.\n",
    "\n",
    "If your accuracy is under 45%, you'll need to make improvements.\n",
    "Go back and check your model architecture, loss function, and optimizer to make sure they're appropriate for an image classification task."
   ]
  },
  {
   "cell_type": "code",
   "execution_count": 54,
   "metadata": {
    "scrolled": true
   },
   "outputs": [
    {
     "name": "stdout",
     "output_type": "stream",
     "text": [
      "Model Accuracy: 71.21962915601023\n"
     ]
    }
   ],
   "source": [
    "## YOUR CODE HERE ##\n",
    "accu=0\n",
    "model.eval()\n",
    "with torch.no_grad():\n",
    "    for images, labels in testloader:\n",
    "        images, labels = images.to(device), labels.to(device)\n",
    "        logps = model.forward(images)\n",
    "        t_loss = criterion(logps, labels)\n",
    "                    \n",
    "        test_loss += t_loss.item()\n",
    "                    \n",
    "        ps = torch.exp(logps)\n",
    "        top_p, top_class = ps.topk(1, dim=1)\n",
    "        equals = top_class == labels.view(*top_class.shape)\n",
    "        accu += torch.mean(equals.type(torch.FloatTensor)).item()     \n",
    "model.train()                        \n",
    "print(f\"Model Accuracy: {accu/len(testloader)*100}\")\n"
   ]
  },
  {
   "cell_type": "markdown",
   "metadata": {},
   "source": [
    "## Saving your model\n",
    "Using `torch.save`, save your model for future loading."
   ]
  },
  {
   "cell_type": "code",
   "execution_count": 31,
   "metadata": {},
   "outputs": [],
   "source": [
    "## YOUR CODE HERE ##\n",
    "checkpoint={'state_dict': model.state_dict(),\n",
    "            'accuracy_list':accuracies,\n",
    "            'train_loss_list':training_losses,\n",
    "            'test_loss_list': test_losses,\n",
    "            'model': model}\n",
    "torch.save(checkpoint, 'checkpoint.pth')"
   ]
  },
  {
   "cell_type": "markdown",
   "metadata": {},
   "source": [
    "## Make a Recommendation\n",
    "\n",
    "Based on your evaluation, what is your recommendation on whether to build or buy? Explain your reasoning below.\n",
    "\n",
    "Some things to consider as you formulate your recommendation:\n",
    "* How does your model compare to Detectocorp's model?\n",
    "* How does it compare to the far more advanced solutions in the literature? \n",
    "* What did you do to get the accuracy you achieved? \n",
    "* Is it necessary to improve this accuracy? If so, what sort of work would be involved in improving it?"
   ]
  },
  {
   "cell_type": "markdown",
   "metadata": {},
   "source": [
    "\n",
    "\n",
    "**Double click this cell to modify it**\n",
    "\n",
    "I recommend building rather than buying since my model achieved an accuracy higher than 70%, which is better than Detectocorp's model, but still lacks in accuracy when compared to the other models. \n",
    "\n",
    "When I built a traditional feedforward neural network, I noticed that regardless of what hyperparameters I tuned the accuracy always averaged between 40% and 55%.\n",
    "So I researched more about neural networks and found that convolutional neural networks are the most suitable for image classification, and after some trail and error i achieved an accuracy of 71.2%\n",
    "\n",
    "As for improving accuracy, it depends on what the model is used for. If it requires greater accuracy, I'll adjust the convolutional layers hyperparameters more (number of layers, pools, kernel size, stride,...etc), and even train it more"
   ]
  },
  {
   "cell_type": "markdown",
   "metadata": {},
   "source": [
    "## Submit Your Project\n",
    "\n",
    "When you are finished editing the notebook and are ready to turn it in, simply click the **SUBMIT PROJECT** button in the lower right.\n",
    "\n",
    "Once you submit your project, we'll review your work and give you feedback if there's anything that you need to work on. If you'd like to see the exact points that your reviewer will check for when looking at your work, you can have a look over the project [rubric](https://review.udacity.com/#!/rubrics/3077/view)."
   ]
  }
 ],
 "metadata": {
  "kernelspec": {
   "display_name": "Python 3 (ipykernel)",
   "language": "python",
   "name": "python3"
  },
  "language_info": {
   "codemirror_mode": {
    "name": "ipython",
    "version": 3
   },
   "file_extension": ".py",
   "mimetype": "text/x-python",
   "name": "python",
   "nbconvert_exporter": "python",
   "pygments_lexer": "ipython3",
   "version": "3.9.7"
  }
 },
 "nbformat": 4,
 "nbformat_minor": 4
}
